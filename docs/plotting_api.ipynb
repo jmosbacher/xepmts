{
 "cells": [
  {
   "cell_type": "markdown",
   "metadata": {},
   "source": [
    "# Plotting API"
   ]
  },
  {
   "cell_type": "code",
   "execution_count": null,
   "metadata": {},
   "outputs": [],
   "source": [
    "import xepmts\n",
    "xepmts.notebook()"
   ]
  },
  {
   "cell_type": "code",
   "execution_count": null,
   "metadata": {},
   "outputs": [],
   "source": [
    "db = xepmts.default_client().db\n",
    "db.set_token(\"YOUR-TOKEN-HERE\")"
   ]
  },
  {
   "cell_type": "markdown",
   "metadata": {},
   "source": [
    "Calling the plot property will return a hvPlot object for plotting. Small collections will be auto loaded from the DB and large collections will be backed by a delayed dask dataframe that will load data lazily as requested by the plot."
   ]
  },
  {
   "cell_type": "code",
   "execution_count": null,
   "metadata": {},
   "outputs": [],
   "source": [
    "db.tpc.gains.plot.hist(y=\"gain\", bins=100)"
   ]
  },
  {
   "cell_type": "markdown",
   "metadata": {},
   "source": [
    "You can also access any pre-defined plots for the resource by calling them by name. Its possible to overide settings by passing them when calling the plot"
   ]
  },
  {
   "cell_type": "code",
   "execution_count": null,
   "metadata": {},
   "outputs": [],
   "source": [
    "db.tpc.installs.plot.sectors(width=600)"
   ]
  },
  {
   "cell_type": "markdown",
   "metadata": {},
   "source": [
    "The .plots property will list the pre-defined plots available for the resource."
   ]
  },
  {
   "cell_type": "code",
   "execution_count": null,
   "metadata": {},
   "outputs": [],
   "source": [
    "db.tpc.installs.plots"
   ]
  },
  {
   "cell_type": "markdown",
   "metadata": {},
   "source": [
    "For more plotting examples see the [hvplot](https://hvplot.holoviz.org/) documentation."
   ]
  }
 ],
 "metadata": {
  "kernelspec": {
   "display_name": "xepmts",
   "language": "python",
   "name": "xepmts"
  },
  "language_info": {
   "codemirror_mode": {
    "name": "ipython",
    "version": 3
   },
   "file_extension": ".py",
   "mimetype": "text/x-python",
   "name": "python",
   "nbconvert_exporter": "python",
   "pygments_lexer": "ipython3",
   "version": "3.7.9"
  }
 },
 "nbformat": 4,
 "nbformat_minor": 4
}
